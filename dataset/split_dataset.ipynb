{
 "cells": [
  {
   "cell_type": "code",
   "execution_count": 302,
   "metadata": {},
   "outputs": [],
   "source": [
    "import numpy as np\n",
    "import os\n",
    "import glob\n",
    "import json\n",
    "from collections import Counter\n",
    "\n",
    "\n",
    "import cv2\n",
    "import matplotlib.pyplot as plt\n",
    "\n",
    "from tqdm.notebook import tqdm\n",
    "from joblib import Parallel, delayed\n",
    "\n",
    "\n",
    "from sklearn.decomposition import PCA\n",
    "from sklearn.model_selection import train_test_split\n"
   ]
  },
  {
   "cell_type": "code",
   "execution_count": 25,
   "metadata": {},
   "outputs": [],
   "source": [
    "os.environ[\"CUDA_VISIBLE_DEVICES\"] = \"4,5,6\""
   ]
  },
  {
   "cell_type": "code",
   "execution_count": 107,
   "metadata": {},
   "outputs": [],
   "source": [
    "DATA_ROOT = \"/media/godel/HDD/jimmy/Objaverse\"\n",
    "\n",
    "SELECTED_SEEN_CATEGORY_NUM = 10\n",
    "SELECTED_NOVEL_CATEGORY_NUM = 10\n",
    "\n",
    "MIN_CATEGORY_SIZE = 50\n",
    "\n",
    "\n",
    "IMAGE_MEAN = np.array([0.485, 0.456, 0.406])\n",
    "IMAGE_STD = np.array([0.229, 0.224, 0.225])\n"
   ]
  },
  {
   "cell_type": "code",
   "execution_count": 3,
   "metadata": {},
   "outputs": [],
   "source": [
    "with open(os.path.join(DATA_ROOT, \"uid_wo_image.json\"), \"r\") as fd:\n",
    "    no_image_uid = json.load(fd)"
   ]
  },
  {
   "cell_type": "code",
   "execution_count": 4,
   "metadata": {},
   "outputs": [],
   "source": [
    "all_image_path = glob.glob(os.path.join(DATA_ROOT, \"data\", \"*/*/*.jpeg\"))"
   ]
  },
  {
   "cell_type": "code",
   "execution_count": 5,
   "metadata": {},
   "outputs": [],
   "source": [
    "all_image_path = [ p for p in all_image_path if p.split(os.sep)[-2] not in no_image_uid ]"
   ]
  },
  {
   "cell_type": "code",
   "execution_count": 6,
   "metadata": {},
   "outputs": [
    {
     "data": {
      "text/plain": [
       "45306"
      ]
     },
     "execution_count": 6,
     "metadata": {},
     "output_type": "execute_result"
    }
   ],
   "source": [
    "len(all_image_path)"
   ]
  },
  {
   "cell_type": "code",
   "execution_count": null,
   "metadata": {},
   "outputs": [],
   "source": []
  },
  {
   "cell_type": "code",
   "execution_count": null,
   "metadata": {},
   "outputs": [],
   "source": []
  },
  {
   "cell_type": "code",
   "execution_count": null,
   "metadata": {},
   "outputs": [],
   "source": []
  },
  {
   "cell_type": "code",
   "execution_count": 7,
   "metadata": {},
   "outputs": [
    {
     "data": {
      "application/vnd.jupyter.widget-view+json": {
       "model_id": "db551eb1b0014e89adc72654e4b1af21",
       "version_major": 2,
       "version_minor": 0
      },
      "text/plain": [
       "  0%|          | 0/45306 [00:00<?, ?it/s]"
      ]
     },
     "metadata": {},
     "output_type": "display_data"
    }
   ],
   "source": [
    "def getImageSize(fn):\n",
    "    # return imageio.v3.imread(fn).shape\n",
    "    return cv2.imread(fn).shape\n",
    "\n",
    "all_image_size = Parallel(n_jobs=32)(delayed(getImageSize)(p) for p in tqdm(all_image_path))"
   ]
  },
  {
   "cell_type": "code",
   "execution_count": 8,
   "metadata": {},
   "outputs": [
    {
     "data": {
      "text/plain": [
       "Counter({(1080, 1920, 3): 41695,\n",
       "         (486, 864, 3): 24,\n",
       "         (576, 1024, 3): 3205,\n",
       "         (720, 1024, 3): 12,\n",
       "         (573, 1024, 3): 79,\n",
       "         (405, 720, 3): 50,\n",
       "         (810, 1440, 3): 77,\n",
       "         (574, 1024, 3): 23,\n",
       "         (360, 640, 3): 84,\n",
       "         (591, 1024, 3): 1,\n",
       "         (144, 256, 3): 7,\n",
       "         (532, 1024, 3): 1,\n",
       "         (598, 1024, 3): 2,\n",
       "         (572, 1024, 3): 3,\n",
       "         (852, 1024, 3): 1,\n",
       "         (612, 1024, 3): 1,\n",
       "         (640, 1024, 3): 1,\n",
       "         (252, 448, 3): 11,\n",
       "         (626, 1024, 3): 1,\n",
       "         (605, 1024, 3): 1,\n",
       "         (569, 1024, 3): 1,\n",
       "         (563, 1024, 3): 1,\n",
       "         (581, 1024, 3): 1,\n",
       "         (617, 1024, 3): 2,\n",
       "         (599, 1024, 3): 1,\n",
       "         (673, 1024, 3): 1,\n",
       "         (600, 1024, 3): 1,\n",
       "         (587, 1024, 3): 1,\n",
       "         (561, 1024, 3): 2,\n",
       "         (655, 1024, 3): 1,\n",
       "         (686, 1024, 3): 1,\n",
       "         (912, 1024, 3): 2,\n",
       "         (1025, 1024, 3): 1,\n",
       "         (578, 1024, 3): 1,\n",
       "         (593, 1024, 3): 1,\n",
       "         (538, 1024, 3): 1,\n",
       "         (552, 1024, 3): 1,\n",
       "         (536, 1024, 3): 1,\n",
       "         (923, 1024, 3): 1,\n",
       "         (549, 1024, 3): 1,\n",
       "         (595, 1024, 3): 2,\n",
       "         (660, 1024, 3): 1,\n",
       "         (634, 1024, 3): 1})"
      ]
     },
     "execution_count": 8,
     "metadata": {},
     "output_type": "execute_result"
    }
   ],
   "source": [
    "Counter(all_image_size)"
   ]
  },
  {
   "cell_type": "code",
   "execution_count": 9,
   "metadata": {},
   "outputs": [],
   "source": [
    "SELECTED_IMAGE_SIZE  = (1080, 1920, 3)\n",
    "OUTPUT_IMAGE_SIZE = (144, 256, 3)"
   ]
  },
  {
   "cell_type": "code",
   "execution_count": 10,
   "metadata": {},
   "outputs": [
    {
     "data": {
      "text/plain": [
       "45306"
      ]
     },
     "execution_count": 10,
     "metadata": {},
     "output_type": "execute_result"
    }
   ],
   "source": [
    "len(all_image_size)"
   ]
  },
  {
   "cell_type": "code",
   "execution_count": null,
   "metadata": {},
   "outputs": [],
   "source": []
  },
  {
   "cell_type": "code",
   "execution_count": 11,
   "metadata": {},
   "outputs": [],
   "source": [
    "image_match_size_idx = [ i for i in range(len(all_image_size)) if all_image_size[i] == SELECTED_IMAGE_SIZE ]"
   ]
  },
  {
   "cell_type": "code",
   "execution_count": 12,
   "metadata": {},
   "outputs": [],
   "source": [
    "category2path = {}\n",
    "\n",
    "for idx in image_match_size_idx:\n",
    "\n",
    "    fn = all_image_path[idx]\n",
    "    cate = fn.split(os.sep)[-3]\n",
    "\n",
    "    if cate not in category2path:\n",
    "        category2path[cate] = []\n",
    "    \n",
    "    category2path[cate].append(fn)\n"
   ]
  },
  {
   "cell_type": "code",
   "execution_count": 13,
   "metadata": {},
   "outputs": [
    {
     "data": {
      "text/plain": [
       "1154"
      ]
     },
     "execution_count": 13,
     "metadata": {},
     "output_type": "execute_result"
    }
   ],
   "source": [
    "len(category2path)"
   ]
  },
  {
   "cell_type": "code",
   "execution_count": 14,
   "metadata": {},
   "outputs": [],
   "source": [
    "cate2size = { k:len(v) for k, v in category2path.items() }"
   ]
  },
  {
   "cell_type": "code",
   "execution_count": null,
   "metadata": {},
   "outputs": [],
   "source": []
  },
  {
   "cell_type": "code",
   "execution_count": 15,
   "metadata": {},
   "outputs": [],
   "source": [
    "def getImage(fn):\n",
    "    img = cv2.cvtColor(cv2.imread(fn), cv2.COLOR_BGR2RGB)\n",
    "    # img = cv2.cvtColor(cv2.imread(fn), cv2.COLOR_BGR2GRAY)\n",
    "    resized_img = cv2.resize(img, OUTPUT_IMAGE_SIZE[:2][::-1]).astype(float) / 255.0\n",
    "    norm_img = (resized_img - IMAGE_MEAN) / IMAGE_STD\n",
    "    return norm_img"
   ]
  },
  {
   "cell_type": "code",
   "execution_count": null,
   "metadata": {},
   "outputs": [],
   "source": []
  },
  {
   "cell_type": "code",
   "execution_count": null,
   "metadata": {},
   "outputs": [],
   "source": [
    "# cate2matchImage = {}\n",
    "\n",
    "# for k in category2path:\n",
    "#     if k not in cate2matchImage:\n",
    "#         cate2matchImage[k] = []\n",
    "    \n",
    "#     cate2matchImage[k] = Parallel(n_jobs=32)(delayed(getImage)(p) for idx in tqdm(image_match_size_idx))\n"
   ]
  },
  {
   "cell_type": "code",
   "execution_count": 16,
   "metadata": {},
   "outputs": [
    {
     "data": {
      "application/vnd.jupyter.widget-view+json": {
       "model_id": "4490540961c34ea9a08ab45c42bbd12c",
       "version_major": 2,
       "version_minor": 0
      },
      "text/plain": [
       "  0%|          | 0/41695 [00:00<?, ?it/s]"
      ]
     },
     "metadata": {},
     "output_type": "display_data"
    }
   ],
   "source": [
    "all_match_image = Parallel(n_jobs=32)(delayed(getImage)(all_image_path[idx]) for idx in tqdm(image_match_size_idx))"
   ]
  },
  {
   "cell_type": "code",
   "execution_count": 17,
   "metadata": {},
   "outputs": [],
   "source": [
    "all_match_image = np.stack(all_match_image)"
   ]
  },
  {
   "cell_type": "code",
   "execution_count": 18,
   "metadata": {},
   "outputs": [
    {
     "data": {
      "text/plain": [
       "(41695, 144, 256, 3)"
      ]
     },
     "execution_count": 18,
     "metadata": {},
     "output_type": "execute_result"
    }
   ],
   "source": [
    "all_match_image.shape"
   ]
  },
  {
   "cell_type": "code",
   "execution_count": null,
   "metadata": {},
   "outputs": [],
   "source": []
  },
  {
   "cell_type": "code",
   "execution_count": null,
   "metadata": {},
   "outputs": [],
   "source": []
  },
  {
   "cell_type": "code",
   "execution_count": null,
   "metadata": {},
   "outputs": [],
   "source": []
  },
  {
   "cell_type": "code",
   "execution_count": null,
   "metadata": {},
   "outputs": [],
   "source": []
  },
  {
   "cell_type": "code",
   "execution_count": null,
   "metadata": {},
   "outputs": [],
   "source": []
  },
  {
   "cell_type": "code",
   "execution_count": 22,
   "metadata": {},
   "outputs": [],
   "source": [
    "from torchvision.models import resnet50\n",
    "import torch.nn as nn\n",
    "import torch\n"
   ]
  },
  {
   "cell_type": "code",
   "execution_count": 23,
   "metadata": {},
   "outputs": [],
   "source": [
    "class Encoder(nn.Module):\n",
    "\n",
    "    def __init__(self):\n",
    "        super().__init__()\n",
    "\n",
    "        self.encoder = resnet50(weights=\"IMAGENET1K_V1\")\n",
    "\n",
    "    # (B, C, H, W)\n",
    "    def forward(self, x):\n",
    "        x = self.encoder.conv1(x)\n",
    "        x = self.encoder.bn1(x)\n",
    "        x = self.encoder.relu(x)\n",
    "        x = self.encoder.maxpool(x)\n",
    "\n",
    "        x = self.encoder.layer1(x)\n",
    "        x = self.encoder.layer2(x)\n",
    "        x = self.encoder.layer3(x)\n",
    "        x = self.encoder.layer4(x)\n",
    "\n",
    "        x = self.encoder.avgpool(x)\n",
    "        x = torch.flatten(x, 1)\n",
    "\n",
    "        return x\n",
    "    "
   ]
  },
  {
   "cell_type": "code",
   "execution_count": 24,
   "metadata": {},
   "outputs": [],
   "source": [
    "encoder = Encoder()"
   ]
  },
  {
   "cell_type": "code",
   "execution_count": 28,
   "metadata": {},
   "outputs": [],
   "source": [
    "BATCH_SIZE = 128\n",
    "\n",
    "encoder = encoder.eval()\n",
    "encoder = encoder.cuda()\n",
    "batch_num = np.ceil(all_match_image.shape[0] / BATCH_SIZE).astype(int)\n",
    "\n",
    "all_emb = []\n",
    "\n",
    "with torch.no_grad():\n",
    "\n",
    "    for bidx in range(batch_num):\n",
    "        inp_batch = all_match_image[bidx*BATCH_SIZE:(bidx+1)*BATCH_SIZE]\n",
    "        inp_batch_ten = torch.from_numpy(inp_batch).float().permute(0,3,1,2)\n",
    "        inp_batch_ten = inp_batch_ten.cuda()\n",
    "        emb = encoder(inp_batch_ten)\n",
    "\n",
    "        all_emb.append(emb.cpu().numpy())\n"
   ]
  },
  {
   "cell_type": "code",
   "execution_count": null,
   "metadata": {},
   "outputs": [],
   "source": [
    "all_emb = np.concatenate(all_emb, axis=0)"
   ]
  },
  {
   "cell_type": "code",
   "execution_count": null,
   "metadata": {},
   "outputs": [],
   "source": []
  },
  {
   "cell_type": "code",
   "execution_count": 34,
   "metadata": {},
   "outputs": [],
   "source": [
    "REDUCED_DIM = 2\n",
    "\n",
    "dim_reduce_method = PCA(n_components=REDUCED_DIM)\n",
    "# all_red_image = dim_reduce_method.fit_transform(all_match_image.reshape(all_match_image.shape[0], -1))\n",
    "\n",
    "all_red_image = dim_reduce_method.fit_transform(all_emb)"
   ]
  },
  {
   "cell_type": "code",
   "execution_count": 36,
   "metadata": {},
   "outputs": [],
   "source": [
    "# plt.scatter(all_red_image[:,0], all_red_image[:,1])"
   ]
  },
  {
   "cell_type": "code",
   "execution_count": 37,
   "metadata": {},
   "outputs": [],
   "source": [
    "all_red_image = all_emb"
   ]
  },
  {
   "cell_type": "code",
   "execution_count": null,
   "metadata": {},
   "outputs": [],
   "source": []
  },
  {
   "cell_type": "code",
   "execution_count": null,
   "metadata": {},
   "outputs": [],
   "source": []
  },
  {
   "cell_type": "code",
   "execution_count": 38,
   "metadata": {},
   "outputs": [],
   "source": [
    "cate2redImg = {}\n",
    "\n",
    "for i in range(len(image_match_size_idx)):\n",
    "    idx = image_match_size_idx[i]\n",
    "\n",
    "    fn = all_image_path[idx]\n",
    "    cate = fn.split(os.sep)[-3]\n",
    "\n",
    "    if cate not in cate2redImg:\n",
    "        cate2redImg[cate] = []\n",
    "    \n",
    "    red_img = all_red_image[i]\n",
    "\n",
    "    cate2redImg[cate].append(red_img)\n",
    "\n",
    "\n",
    "for k in cate2redImg:\n",
    "    cate2redImg[k] = np.stack(cate2redImg[k])\n",
    "\n",
    "\n",
    "cate2meanRedImg = {}\n",
    "\n",
    "for k in cate2redImg:\n",
    "    cate2meanRedImg[k] = cate2redImg[k].mean(axis=0)"
   ]
  },
  {
   "cell_type": "code",
   "execution_count": 39,
   "metadata": {},
   "outputs": [
    {
     "name": "stderr",
     "output_type": "stream",
     "text": [
      "/data/jimmy/.conda/envs/NovelObject/lib/python3.8/site-packages/IPython/core/interactiveshell.py:3400: FutureWarning: arrays to stack must be passed as a \"sequence\" type such as list or tuple. Support for non-sequence iterables such as generators is deprecated as of NumPy 1.16 and will raise an error in the future.\n",
      "  if await self.run_code(code, result, async_=asy):\n"
     ]
    },
    {
     "data": {
      "text/plain": [
       "<matplotlib.collections.PathCollection at 0x7f763848ceb0>"
      ]
     },
     "execution_count": 39,
     "metadata": {},
     "output_type": "execute_result"
    },
    {
     "data": {
      "image/png": "[encoded data removed]",
      "text/plain": [
       "<Figure size 640x480 with 1 Axes>"
      ]
     },
     "metadata": {},
     "output_type": "display_data"
    }
   ],
   "source": [
    "meanRedImg = np.stack(cate2meanRedImg.values())\n",
    "\n",
    "plt.scatter(meanRedImg[:,0], meanRedImg[:,1])"
   ]
  },
  {
   "cell_type": "code",
   "execution_count": null,
   "metadata": {},
   "outputs": [],
   "source": [
    "# Category with dataset size larger than 50"
   ]
  },
  {
   "cell_type": "code",
   "execution_count": 108,
   "metadata": {},
   "outputs": [],
   "source": [
    "qualified_category = [ (k,v) for k,v in cate2size.items() if v >= MIN_CATEGORY_SIZE ]"
   ]
  },
  {
   "cell_type": "code",
   "execution_count": 109,
   "metadata": {},
   "outputs": [
    {
     "data": {
      "text/plain": [
       "[('ladder', 55),\n",
       " ('bouquet', 62),\n",
       " ('heart', 107),\n",
       " ('drum_musical_instrument', 89),\n",
       " ('trash_can', 55),\n",
       " ('fireplace', 73),\n",
       " ('candle', 51),\n",
       " ('wolf', 92),\n",
       " ('eagle', 51),\n",
       " ('stagecoach', 53),\n",
       " ('chocolate_cake', 63),\n",
       " ('fan', 86),\n",
       " ('shark', 94),\n",
       " ('glove', 51),\n",
       " ('wedding_cake', 50),\n",
       " ('piano', 88),\n",
       " ('pickup_truck', 105),\n",
       " ('pop_soda', 76),\n",
       " ('gun', 90),\n",
       " ('monkey', 63),\n",
       " ('musical_instrument', 59),\n",
       " ('cupcake', 62),\n",
       " ('pot', 51),\n",
       " ('motor_scooter', 64),\n",
       " ('deer', 51),\n",
       " ('cock', 60),\n",
       " ('pliers', 51),\n",
       " ('table', 66),\n",
       " ('solar_array', 70),\n",
       " ('pony', 98),\n",
       " ('camera_lens', 56),\n",
       " ('shirt', 70),\n",
       " ('watch', 86),\n",
       " ('elephant', 100),\n",
       " ('tractor_farm_equipment', 73),\n",
       " ('teapot', 75),\n",
       " ('dollhouse', 54),\n",
       " ('award', 61),\n",
       " ('mug', 108),\n",
       " ('bus_vehicle', 68),\n",
       " ('motor_vehicle', 98),\n",
       " ('keg', 93),\n",
       " ('skateboard', 111),\n",
       " ('bat_animal', 67),\n",
       " ('banana', 119),\n",
       " ('toilet', 105),\n",
       " ('wedding_ring', 110),\n",
       " ('goldfish', 54),\n",
       " ('turtle', 77),\n",
       " ('jewelry', 62),\n",
       " ('doughnut', 122),\n",
       " ('wall_clock', 55),\n",
       " ('bread', 59),\n",
       " ('bullet_train', 53),\n",
       " ('elk', 78),\n",
       " ('baseball_cap', 64),\n",
       " ('wrench', 51),\n",
       " ('jacket', 52),\n",
       " ('freight_car', 50),\n",
       " ('key', 63),\n",
       " ('fire_extinguisher', 82),\n",
       " ('puppet', 52),\n",
       " ('signboard', 63),\n",
       " ('police_cruiser', 109),\n",
       " ('butterfly', 90),\n",
       " ('bucket', 57),\n",
       " ('cat', 73),\n",
       " ('seashell', 340),\n",
       " ('helicopter', 110),\n",
       " ('beer_bottle', 63),\n",
       " ('chair', 422),\n",
       " ('race_car', 105),\n",
       " ('manhole', 91),\n",
       " ('necklace', 97),\n",
       " ('clock', 61),\n",
       " ('candle_holder', 65),\n",
       " ('helmet', 88),\n",
       " ('tiger', 60),\n",
       " ('windmill', 96),\n",
       " ('lizard', 66),\n",
       " ('cabinet', 56),\n",
       " ('teddy_bear', 115),\n",
       " ('jeep', 76),\n",
       " ('puppy', 80),\n",
       " ('balloon', 71),\n",
       " ('Lego', 78),\n",
       " ('mascot', 93),\n",
       " ('chandelier', 141),\n",
       " ('violin', 77),\n",
       " ('chinaware', 56),\n",
       " ('pitcher_vessel_for_liquid', 63),\n",
       " ('giant_panda', 60),\n",
       " ('hog', 68),\n",
       " ('pottery', 93),\n",
       " ('cube', 71),\n",
       " ('globe', 105),\n",
       " ('flowerpot', 77),\n",
       " ('tag', 65),\n",
       " ('blimp', 52),\n",
       " ('dress', 78),\n",
       " ('water_heater', 56),\n",
       " ('horse', 76),\n",
       " ('box', 62),\n",
       " ('army_tank', 78),\n",
       " ('armor', 115),\n",
       " ('pumpkin', 105),\n",
       " ('gorilla', 65),\n",
       " ('machine_gun', 97),\n",
       " ('shield', 134),\n",
       " ('drone', 62),\n",
       " ('guitar', 100),\n",
       " ('chessboard', 70),\n",
       " ('hammer', 52),\n",
       " ('icecream', 78),\n",
       " ('dining_table', 66),\n",
       " ('school_bus', 53),\n",
       " ('shopping_bag', 53),\n",
       " ('lantern', 85),\n",
       " ('blazer', 60),\n",
       " ('grizzly', 68),\n",
       " ('vase', 83),\n",
       " ('sculpture', 97),\n",
       " ('person', 54),\n",
       " ('truck', 56),\n",
       " ('motorcycle', 71),\n",
       " ('water_bottle', 70),\n",
       " ('gameboard', 76),\n",
       " ('dress_hat', 52),\n",
       " ('backpack', 53),\n",
       " ('vending_machine', 73),\n",
       " ('cap_headwear', 51),\n",
       " ('checkerboard', 66),\n",
       " ('sword', 114),\n",
       " ('dirt_bike', 83),\n",
       " ('trunk', 97),\n",
       " ('brass_plaque', 65),\n",
       " ('flag', 79),\n",
       " ('flower_arrangement', 68),\n",
       " ('spider', 91),\n",
       " ('boot', 76),\n",
       " ('cushion', 72),\n",
       " ('frog', 88),\n",
       " ('mirror', 51),\n",
       " ('space_shuttle', 54),\n",
       " ('pistol', 83),\n",
       " ('bench', 77),\n",
       " ('owl', 94),\n",
       " ('baseball_bat', 51),\n",
       " ('tripod', 57),\n",
       " ('bowl', 78),\n",
       " ('headset', 64),\n",
       " ('gravestone', 131),\n",
       " ('drawer', 51),\n",
       " ('chalice', 68),\n",
       " ('beer_can', 66),\n",
       " ('cow', 52),\n",
       " ('radio_receiver', 86),\n",
       " ('stepladder', 52),\n",
       " ('earphone', 83),\n",
       " ('pole', 60),\n",
       " ('boat', 51),\n",
       " ('airplane', 82),\n",
       " ('alarm_clock', 65),\n",
       " ('knife', 70),\n",
       " ('figurine', 119),\n",
       " ('giraffe', 82),\n",
       " ('teakettle', 69),\n",
       " ('dress_suit', 66),\n",
       " ('crown', 51),\n",
       " ('stool', 53),\n",
       " ('hamburger', 60),\n",
       " ('table_lamp', 77),\n",
       " ('snowman', 127),\n",
       " ('camera', 52),\n",
       " ('rabbit', 109),\n",
       " ('tomato', 50),\n",
       " ('wheel', 54),\n",
       " ('sofa', 67),\n",
       " ('armoire', 53),\n",
       " ('fighter_jet', 105),\n",
       " ('crate', 97),\n",
       " ('sunflower', 57),\n",
       " ('statue_sculpture', 91),\n",
       " ('starfish', 52),\n",
       " ('telephone_booth', 61),\n",
       " ('water_faucet', 70),\n",
       " ('cone', 130),\n",
       " ('penguin', 92),\n",
       " ('chopping_board', 54),\n",
       " ('desk', 66),\n",
       " ('sportswear', 90),\n",
       " ('mushroom', 115),\n",
       " ('lampshade', 100),\n",
       " ('costume', 58),\n",
       " ('microphone', 60),\n",
       " ('pen', 50),\n",
       " ('toy', 68),\n",
       " ('pear', 52),\n",
       " ('bedspread', 61),\n",
       " ('computer_keyboard', 88),\n",
       " ('fish', 75),\n",
       " ('snake', 73),\n",
       " ('ax', 71),\n",
       " ('wine_bucket', 61),\n",
       " ('mask', 109),\n",
       " ('muffin', 50),\n",
       " ('sunglasses', 97),\n",
       " ('cylinder', 60),\n",
       " ('apple', 105),\n",
       " ('traffic_light', 74),\n",
       " ('coin', 91),\n",
       " ('lightbulb', 73),\n",
       " ('rifle', 101),\n",
       " ('lamp', 56),\n",
       " ('hardback_book', 62),\n",
       " ('bird', 74),\n",
       " ('soccer_ball', 110),\n",
       " ('control', 115),\n",
       " ('mallet', 71),\n",
       " ('awning', 65),\n",
       " ('die', 110),\n",
       " ('rat', 65),\n",
       " ('kitten', 86),\n",
       " ('log', 57),\n",
       " ('doll', 52),\n",
       " ('phonograph_record', 84),\n",
       " ('armchair', 89),\n",
       " ('gourd', 69),\n",
       " ('gargoyle', 69),\n",
       " ('dresser', 76),\n",
       " ('spectacles', 105),\n",
       " ('pastry', 61),\n",
       " ('shoe', 115),\n",
       " ('kettle', 73),\n",
       " ('wineglass', 92),\n",
       " ('Christmas_tree', 76),\n",
       " ('fireplug', 111),\n",
       " ('telephone', 109),\n",
       " ('ring', 116),\n",
       " ('goggles', 54),\n",
       " ('cornice', 57),\n",
       " ('lion', 100),\n",
       " ('rhinoceros', 59),\n",
       " ('pinecone', 74),\n",
       " ('tablecloth', 87),\n",
       " ('car_automobile', 82),\n",
       " ('refrigerator', 52),\n",
       " ('television_set', 91),\n",
       " ('dog', 66),\n",
       " ('bookcase', 95),\n",
       " ('bunk_bed', 52),\n",
       " ('duckling', 68),\n",
       " ('gift_wrap', 76),\n",
       " ('dumpster', 55),\n",
       " ('basketball', 62),\n",
       " ('tapestry', 51),\n",
       " ('soup_bowl', 58),\n",
       " ('barrel', 72),\n",
       " ('oil_lamp', 89),\n",
       " ('marker', 67),\n",
       " ('pencil', 58),\n",
       " ('crab_animal', 112),\n",
       " ('chicken_animal', 50),\n",
       " ('cooker', 50),\n",
       " ('pineapple', 55),\n",
       " ('trench_coat', 62),\n",
       " ('monitor_computer_equipment computer_monitor', 120),\n",
       " ('lamppost', 102),\n",
       " ('pizza', 84),\n",
       " ('bicycle', 103),\n",
       " ('sponge', 62),\n",
       " ('gemstone', 72),\n",
       " ('can', 52),\n",
       " ('antenna', 154)]"
      ]
     },
     "execution_count": 109,
     "metadata": {},
     "output_type": "execute_result"
    }
   ],
   "source": [
    "qualified_category"
   ]
  },
  {
   "cell_type": "code",
   "execution_count": 110,
   "metadata": {},
   "outputs": [
    {
     "data": {
      "text/plain": [
       "274"
      ]
     },
     "execution_count": 110,
     "metadata": {},
     "output_type": "execute_result"
    }
   ],
   "source": [
    "len(qualified_category)"
   ]
  },
  {
   "cell_type": "code",
   "execution_count": null,
   "metadata": {},
   "outputs": [],
   "source": []
  },
  {
   "cell_type": "code",
   "execution_count": 111,
   "metadata": {},
   "outputs": [],
   "source": [
    "qualifiedMeanEmb = np.stack([ cate2meanRedImg[q[0]] for q in qualified_category ])"
   ]
  },
  {
   "cell_type": "code",
   "execution_count": 269,
   "metadata": {},
   "outputs": [
    {
     "data": {
      "text/plain": [
       "array(['gameboard', 'can', 'jacket', 'chocolate_cake', 'glove', 'fish',\n",
       "       'helicopter', 'lamppost', 'eagle', 'basketball'], dtype='<U43')"
      ]
     },
     "execution_count": 269,
     "metadata": {},
     "output_type": "execute_result"
    }
   ],
   "source": [
    "# np.random.seed(20001004)\n",
    "# np.random.seed(19970203)\n",
    "# np.random.seed(20230408)\n",
    "# np.random.seed(20230407)\n",
    "np.random.seed(20230409)\n",
    "\n",
    "SELECTED_SEEN_CATEGORY = np.random.choice([ q[0] for q in qualified_category], SELECTED_SEEN_CATEGORY_NUM, replace=False)\n",
    "\n",
    "SELECTED_SEEN_CATEGORY"
   ]
  },
  {
   "cell_type": "code",
   "execution_count": 270,
   "metadata": {},
   "outputs": [
    {
     "data": {
      "text/plain": [
       "(274, 2048)"
      ]
     },
     "execution_count": 270,
     "metadata": {},
     "output_type": "execute_result"
    }
   ],
   "source": [
    "qualifiedMeanEmb.shape"
   ]
  },
  {
   "cell_type": "code",
   "execution_count": null,
   "metadata": {},
   "outputs": [],
   "source": []
  },
  {
   "cell_type": "code",
   "execution_count": 282,
   "metadata": {},
   "outputs": [],
   "source": [
    "SELECTED_UNSEEN_CATEGORY = []\n",
    "\n",
    "for c in SELECTED_SEEN_CATEGORY:\n",
    "    cidx = next(i for i, v in enumerate(qualified_category) if v[0] == c )\n",
    "    \n",
    "    selected_emb = qualifiedMeanEmb[cidx]\n",
    "    dist = ((qualifiedMeanEmb - selected_emb) ** 2).sum(axis=-1)\n",
    "\n",
    "    most_similar_cate_idx = dist.argsort()[2]\n",
    "\n",
    "    SELECTED_UNSEEN_CATEGORY.append(qualified_category[most_similar_cate_idx][0])\n",
    "    "
   ]
  },
  {
   "cell_type": "code",
   "execution_count": 283,
   "metadata": {},
   "outputs": [
    {
     "data": {
      "text/plain": [
       "array(['gameboard', 'can', 'jacket', 'chocolate_cake', 'glove', 'fish',\n",
       "       'helicopter', 'lamppost', 'eagle', 'basketball'], dtype='<U43')"
      ]
     },
     "execution_count": 283,
     "metadata": {},
     "output_type": "execute_result"
    }
   ],
   "source": [
    "SELECTED_SEEN_CATEGORY"
   ]
  },
  {
   "cell_type": "code",
   "execution_count": 284,
   "metadata": {},
   "outputs": [
    {
     "data": {
      "text/plain": [
       "['checkerboard',\n",
       " 'cylinder',\n",
       " 'sportswear',\n",
       " 'wedding_cake',\n",
       " 'dress',\n",
       " 'owl',\n",
       " 'airplane',\n",
       " 'lamp',\n",
       " 'owl',\n",
       " 'pumpkin']"
      ]
     },
     "execution_count": 284,
     "metadata": {},
     "output_type": "execute_result"
    }
   ],
   "source": [
    "SELECTED_UNSEEN_CATEGORY"
   ]
  },
  {
   "cell_type": "code",
   "execution_count": 285,
   "metadata": {},
   "outputs": [
    {
     "data": {
      "text/plain": [
       "[('gameboard', 'checkerboard'),\n",
       " ('can', 'cylinder'),\n",
       " ('jacket', 'sportswear'),\n",
       " ('chocolate_cake', 'wedding_cake'),\n",
       " ('glove', 'dress'),\n",
       " ('fish', 'owl'),\n",
       " ('helicopter', 'airplane'),\n",
       " ('lamppost', 'lamp'),\n",
       " ('eagle', 'owl'),\n",
       " ('basketball', 'pumpkin')]"
      ]
     },
     "execution_count": 285,
     "metadata": {},
     "output_type": "execute_result"
    }
   ],
   "source": [
    "list(zip(SELECTED_SEEN_CATEGORY, SELECTED_UNSEEN_CATEGORY))"
   ]
  },
  {
   "cell_type": "code",
   "execution_count": null,
   "metadata": {},
   "outputs": [],
   "source": []
  },
  {
   "cell_type": "code",
   "execution_count": null,
   "metadata": {},
   "outputs": [],
   "source": []
  },
  {
   "cell_type": "code",
   "execution_count": 289,
   "metadata": {},
   "outputs": [
    {
     "name": "stderr",
     "output_type": "stream",
     "text": [
      "Clipping input data to the valid range for imshow with RGB data ([0..1] for floats or [0..255] for integers).\n"
     ]
    },
    {
     "data": {
      "text/plain": [
       "<matplotlib.image.AxesImage at 0x7f74b040d3a0>"
      ]
     },
     "execution_count": 289,
     "metadata": {},
     "output_type": "execute_result"
    },
    {
     "data": {
      "image/png": "[encoded data removed]",
      "text/plain": [
       "<Figure size 640x480 with 1 Axes>"
      ]
     },
     "metadata": {},
     "output_type": "display_data"
    }
   ],
   "source": [
    "img = getImage(category2path[\"basketball\"][7])\n",
    "plt.imshow(img)"
   ]
  },
  {
   "cell_type": "code",
   "execution_count": 291,
   "metadata": {},
   "outputs": [
    {
     "name": "stderr",
     "output_type": "stream",
     "text": [
      "Clipping input data to the valid range for imshow with RGB data ([0..1] for floats or [0..255] for integers).\n"
     ]
    },
    {
     "data": {
      "text/plain": [
       "<matplotlib.image.AxesImage at 0x7f74b037bf70>"
      ]
     },
     "execution_count": 291,
     "metadata": {},
     "output_type": "execute_result"
    },
    {
     "data": {
      "image/png": "[encoded data removed]",
      "text/plain": [
       "<Figure size 640x480 with 1 Axes>"
      ]
     },
     "metadata": {},
     "output_type": "display_data"
    }
   ],
   "source": [
    "img = getImage(category2path[\"pumpkin\"][6])\n",
    "plt.imshow(img)"
   ]
  },
  {
   "cell_type": "code",
   "execution_count": null,
   "metadata": {},
   "outputs": [],
   "source": []
  },
  {
   "cell_type": "code",
   "execution_count": 292,
   "metadata": {},
   "outputs": [],
   "source": [
    "SELECTED_SEEN_CATEGORY_PAIR = [\n",
    "    ('wolf', 'horse'),\n",
    "    ('dress_hat', 'wedding_cake'),\n",
    "    ('lightbulb', 'award'),\n",
    "    ('ring', 'earphone'),\n",
    "    ('globe', 'tomato'),\n",
    "    ('table_lamp', 'wineglass'),\n",
    "    ('gargoyle', 'lion'),\n",
    "    ('bookcase', 'armoire'),\n",
    "    ('bus_vehicle', 'bullet_train'),\n",
    "    ('fighter_jet', 'shark'),\n",
    "    ('desk', 'piano'),\n",
    "    ('penguin', 'bird'),\n",
    "    ('chinaware', 'pot'),\n",
    "    ('lamppost', 'antenna'),\n",
    "    ('basketball', 'pumpkin'),\n",
    "]"
   ]
  },
  {
   "cell_type": "code",
   "execution_count": 293,
   "metadata": {},
   "outputs": [
    {
     "data": {
      "text/plain": [
       "15"
      ]
     },
     "execution_count": 293,
     "metadata": {},
     "output_type": "execute_result"
    }
   ],
   "source": [
    "len(SELECTED_SEEN_CATEGORY_PAIR)"
   ]
  },
  {
   "cell_type": "code",
   "execution_count": 294,
   "metadata": {},
   "outputs": [
    {
     "name": "stdout",
     "output_type": "stream",
     "text": [
      "wolf 92 horse 76\n",
      "dress_hat 52 wedding_cake 50\n",
      "lightbulb 73 award 61\n",
      "ring 116 earphone 83\n",
      "globe 105 tomato 50\n",
      "table_lamp 77 wineglass 92\n",
      "gargoyle 69 lion 100\n",
      "bookcase 95 armoire 53\n",
      "bus_vehicle 68 bullet_train 53\n",
      "fighter_jet 105 shark 94\n",
      "desk 66 piano 88\n",
      "penguin 92 bird 74\n",
      "chinaware 56 pot 51\n",
      "lamppost 102 antenna 154\n",
      "basketball 62 pumpkin 105\n"
     ]
    }
   ],
   "source": [
    "for c in SELECTED_SEEN_CATEGORY_PAIR:\n",
    "    print(c[0], cate2size[c[0]], c[1], cate2size[c[1]])\n"
   ]
  },
  {
   "cell_type": "code",
   "execution_count": 295,
   "metadata": {},
   "outputs": [
    {
     "data": {
      "text/plain": [
       "1230"
      ]
     },
     "execution_count": 295,
     "metadata": {},
     "output_type": "execute_result"
    }
   ],
   "source": [
    "sum( cate2size[c[0]] for c in SELECTED_SEEN_CATEGORY_PAIR)"
   ]
  },
  {
   "cell_type": "code",
   "execution_count": 296,
   "metadata": {},
   "outputs": [
    {
     "data": {
      "text/plain": [
       "1184"
      ]
     },
     "execution_count": 296,
     "metadata": {},
     "output_type": "execute_result"
    }
   ],
   "source": [
    "sum( cate2size[c[1]] for c in SELECTED_SEEN_CATEGORY_PAIR)"
   ]
  },
  {
   "cell_type": "code",
   "execution_count": 298,
   "metadata": {},
   "outputs": [],
   "source": [
    "all_selected_seen_cate2uid = {}\n",
    "all_selected_unseen_cate2uid = {}\n",
    "\n",
    "for c in SELECTED_SEEN_CATEGORY_PAIR:\n",
    "    all_selected_seen_cate2uid[c[0]] = [ p.split(os.sep)[-2] for p in category2path[c[0]] ]\n",
    "    all_selected_unseen_cate2uid[c[1]] = [ p.split(os.sep)[-2] for p in category2path[c[1]] ]\n"
   ]
  },
  {
   "cell_type": "code",
   "execution_count": 309,
   "metadata": {},
   "outputs": [],
   "source": [
    "def data_spliter(allCate2Uid):\n",
    "\n",
    "    train_cate2uid = {}\n",
    "    valid_cate2uid = {}\n",
    "    test_cate2uid = {}\n",
    "\n",
    "    for c in allCate2Uid:\n",
    "        train_cate2uid[c], valid_cate2uid[c] = train_test_split(allCate2Uid[c], test_size=0.2, random_state=2023)\n",
    "        valid_cate2uid[c], test_cate2uid[c] = train_test_split(valid_cate2uid[c], test_size=0.5, random_state=2023)\n",
    "        \n",
    "    return train_cate2uid, valid_cate2uid, test_cate2uid\n"
   ]
  },
  {
   "cell_type": "code",
   "execution_count": null,
   "metadata": {},
   "outputs": [],
   "source": []
  },
  {
   "cell_type": "code",
   "execution_count": 310,
   "metadata": {},
   "outputs": [],
   "source": [
    "train_seen_data, valid_seen_data, test_seen_data = data_spliter(all_selected_seen_cate2uid)\n",
    "train_unseen_data, valid_unseen_data, test_unseen_data = data_spliter(all_selected_unseen_cate2uid)"
   ]
  },
  {
   "cell_type": "code",
   "execution_count": 315,
   "metadata": {},
   "outputs": [],
   "source": []
  },
  {
   "cell_type": "code",
   "execution_count": 316,
   "metadata": {},
   "outputs": [],
   "source": [
    "OUTPUT_DIR = \"./\""
   ]
  },
  {
   "cell_type": "code",
   "execution_count": 317,
   "metadata": {},
   "outputs": [],
   "source": [
    "with open(os.path.join(OUTPUT_DIR, \"train_seen_uid.json\"), \"w\") as fd:\n",
    "    json.dump(train_seen_data, fd, indent=4)\n",
    "\n",
    "with open(os.path.join(OUTPUT_DIR, \"valid_seen_uid.json\"), \"w\") as fd:\n",
    "    json.dump(valid_seen_data, fd, indent=4)\n",
    "\n",
    "with open(os.path.join(OUTPUT_DIR, \"test_seen_uid.json\"), \"w\") as fd:\n",
    "    json.dump(test_seen_data, fd, indent=4)"
   ]
  },
  {
   "cell_type": "code",
   "execution_count": 320,
   "metadata": {},
   "outputs": [],
   "source": [
    "with open(os.path.join(OUTPUT_DIR, \"train_unseen_uid.json\"), \"w\") as fd:\n",
    "    json.dump(train_unseen_data, fd, indent=4)\n",
    "\n",
    "with open(os.path.join(OUTPUT_DIR, \"valid_unseen_uid.json\"), \"w\") as fd:\n",
    "    json.dump(valid_unseen_data, fd, indent=4)\n",
    "\n",
    "with open(os.path.join(OUTPUT_DIR, \"test_unseen_uid.json\"), \"w\") as fd:\n",
    "    json.dump(test_unseen_data, fd, indent=4)"
   ]
  },
  {
   "cell_type": "code",
   "execution_count": null,
   "metadata": {},
   "outputs": [],
   "source": []
  },
  {
   "cell_type": "code",
   "execution_count": null,
   "metadata": {},
   "outputs": [],
   "source": []
  }
 ],
 "metadata": {
  "kernelspec": {
   "display_name": "NovelObject",
   "language": "python",
   "name": "python3"
  },
  "language_info": {
   "codemirror_mode": {
    "name": "ipython",
    "version": 3
   },
   "file_extension": ".py",
   "mimetype": "text/x-python",
   "name": "python",
   "nbconvert_exporter": "python",
   "pygments_lexer": "ipython3",
   "version": "3.9.16"
  },
  "orig_nbformat": 4
 },
 "nbformat": 4,
 "nbformat_minor": 2
}
